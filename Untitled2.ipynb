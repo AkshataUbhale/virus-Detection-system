{
 "cells": [
  {
   "cell_type": "code",
   "execution_count": 6,
   "id": "ec7b1f6c-5930-4be3-9b93-e9b89bc8d93e",
   "metadata": {},
   "outputs": [],
   "source": [
    "import tkinter as tk\n",
    "from tkinter import filedialog, messagebox\n",
    "import os\n",
    "import mimetypes\n",
    "import re\n",
    "\n",
    "def analyze_file(file_path):\n",
    "    try:\n",
    "        # File size check\n",
    "        file_size = os.path.getsize(file_path)\n",
    "        size_check = \"Large file\" if file_size > 50 * 1024 * 1024 else \"Normal file size\"\n",
    "\n",
    "        # File type check\n",
    "        mime_type, _ = mimetypes.guess_type(file_path)\n",
    "        file_type = mime_type.split('/')[0] if mime_type else 'Unknown'\n",
    "\n",
    "        # Extract strings (more robust approach)\n",
    "        with open(file_path, 'rb') as f:\n",
    "            content = f.read()\n",
    "            strings = re.findall(b'[^\\x00-\\x1F\\x7F-\\xFF]+', content)  # Extract printable characters\n",
    "            strings_preview = '\\n'.join([s.decode('utf-8', 'ignore')[:50] for s in strings[:10]])\n",
    "\n",
    "        return f\"\"\"\n",
    "        File Analysis Report:\n",
    "        ---------------------\n",
    "        File Size: {size_check}\n",
    "        File Type: {file_type}\n",
    "\n",
    "        Strings Preview (First 10 Detected Strings, truncated to 50 characters):\n",
    "        --------------------------------------------------------------------\n",
    "        {strings_preview if strings else 'No readable strings found.'}\n",
    "        \"\"\"\n",
    "\n",
    "    except Exception as e:\n",
    "        return f\"Error analyzing the file: {e}\"\n",
    "\n",
    "# ... rest of the code remains the same ..."
   ]
  },
  {
   "cell_type": "code",
   "execution_count": null,
   "id": "4dd8f2c7-af89-4881-b25e-e5b38353476d",
   "metadata": {},
   "outputs": [],
   "source": []
  },
  {
   "cell_type": "code",
   "execution_count": null,
   "id": "361089c9-c0b2-4561-8fdf-d9f5b3558002",
   "metadata": {},
   "outputs": [],
   "source": []
  }
 ],
 "metadata": {
  "kernelspec": {
   "display_name": "Python 3 (ipykernel)",
   "language": "python",
   "name": "python3"
  },
  "language_info": {
   "codemirror_mode": {
    "name": "ipython",
    "version": 3
   },
   "file_extension": ".py",
   "mimetype": "text/x-python",
   "name": "python",
   "nbconvert_exporter": "python",
   "pygments_lexer": "ipython3",
   "version": "3.12.5"
  }
 },
 "nbformat": 4,
 "nbformat_minor": 5
}
